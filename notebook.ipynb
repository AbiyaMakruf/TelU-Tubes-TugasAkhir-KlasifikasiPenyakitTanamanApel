{
 "cells": [
  {
   "cell_type": "code",
   "execution_count": 15,
   "metadata": {},
   "outputs": [],
   "source": [
    "#Import\n",
    "import tensorflow as tf\n",
    "from tensorflow.keras.preprocessing.image import ImageDataGenerator\n",
    "from tensorflow.keras.applications import MobileNetV2,EfficientNetB0, EfficientNetV2B2\n",
    "from tensorflow.keras.callbacks import ModelCheckpoint, EarlyStopping\n",
    "from tensorflow.keras.layers import Conv2D, MaxPooling2D, Flatten, Dropout, Dense\n",
    "from tensorflow.keras.models import Sequential\n",
    "import os\n",
    "import matplotlib.pyplot as plt"
   ]
  },
  {
   "cell_type": "code",
   "execution_count": 16,
   "metadata": {},
   "outputs": [
    {
     "name": "stdout",
     "output_type": "stream",
     "text": [
      "Found 2433 images belonging to 4 classes.\n",
      "Found 738 images belonging to 4 classes.\n"
     ]
    }
   ],
   "source": [
    "def augment_and_resize_dataset(base_path, img_size=(150, 150), batch_size=32):\n",
    "    train_path = os.path.join(base_path, 'train')\n",
    "    test_path = os.path.join(base_path, 'test')\n",
    "\n",
    "    train_datagen = ImageDataGenerator(\n",
    "        rescale=1./255,\n",
    "        zoom_range=0.2,\n",
    "        horizontal_flip=True,\n",
    "        fill_mode='nearest'\n",
    "    )\n",
    "\n",
    "    # Hanya rescale untuk data test\n",
    "    test_datagen = ImageDataGenerator(rescale=1./255)\n",
    "\n",
    "\n",
    "    train_generator = train_datagen.flow_from_directory(\n",
    "        train_path,\n",
    "        target_size=img_size,\n",
    "        batch_size=batch_size,\n",
    "        class_mode='categorical'\n",
    "    )\n",
    "\n",
    "    test_generator = test_datagen.flow_from_directory(\n",
    "        test_path,\n",
    "        target_size=img_size,\n",
    "        batch_size=batch_size,\n",
    "        class_mode='categorical'\n",
    "    )\n",
    "\n",
    "    return train_generator, test_generator\n",
    "\n",
    "# Path ke folder utama\n",
    "base_path = \"dataset_cadangan/\"\n",
    "\n",
    "train_generator, test_generator = augment_and_resize_dataset(base_path)"
   ]
  },
  {
   "cell_type": "code",
   "execution_count": 17,
   "metadata": {},
   "outputs": [
    {
     "name": "stdout",
     "output_type": "stream",
     "text": [
      "{'Apple_scab': 0, 'Black_rot': 1, 'Cedar_apple_rust': 2, 'healthy': 3}\n"
     ]
    }
   ],
   "source": [
    "class_indices = train_generator.class_indices\n",
    "print(class_indices)"
   ]
  },
  {
   "cell_type": "markdown",
   "metadata": {},
   "source": [
    "MobileNet"
   ]
  },
  {
   "cell_type": "code",
   "execution_count": 18,
   "metadata": {},
   "outputs": [],
   "source": [
    "# pre_trained_model = MobileNetV2(weights=\"imagenet\", include_top=False, input_shape=(150,150,3))\n",
    "\n",
    "# for layer in pre_trained_model.layers:\n",
    "#     layer.trainable = False\n",
    "\n",
    "# model = Sequential()\n",
    "\n",
    "# model.add(pre_trained_model)\n",
    "\n",
    "# # Menambahkan Conv2D and Pooling layers\n",
    "# model.add(Conv2D(32, (3, 3), activation='relu', padding='same'))\n",
    "# model.add(MaxPooling2D((2, 2)))\n",
    "# model.add(Conv2D(64, (3, 3), activation='relu', padding='same'))\n",
    "# model.add(MaxPooling2D((2, 2)))\n",
    "# model.add(Flatten(name=\"flatten\"))\n",
    "# model.add(Dropout(0.5))\n",
    "# model.add(Dense(128, activation=\"relu\"))\n",
    "# model.add(Dense(4, activation='softmax'))"
   ]
  },
  {
   "cell_type": "markdown",
   "metadata": {},
   "source": [
    "EfficientNet V1"
   ]
  },
  {
   "cell_type": "code",
   "execution_count": 19,
   "metadata": {},
   "outputs": [],
   "source": [
    "# pre_trained_model = EfficientNetB0(weights=\"imagenet\", include_top=False, input_shape=(150, 150, 3))\n",
    "\n",
    "# for layer in pre_trained_model.layers:\n",
    "#     layer.trainable = False\n",
    "\n",
    "# model = Sequential()\n",
    "\n",
    "# model.add(pre_trained_model)\n",
    "\n",
    "# # Menambahkan Conv2D and Pooling layers\n",
    "# model.add(Conv2D(32, (3, 3), activation='relu', padding='same'))\n",
    "# model.add(MaxPooling2D((2, 2)))\n",
    "# model.add(Conv2D(64, (3, 3), activation='relu', padding='same'))\n",
    "# model.add(MaxPooling2D((2, 2)))\n",
    "# model.add(Flatten(name=\"flatten\"))\n",
    "# model.add(Dropout(0.5))\n",
    "# model.add(Dense(128, activation=\"relu\"))\n",
    "# model.add(Dense(4, activation='softmax'))"
   ]
  },
  {
   "cell_type": "markdown",
   "metadata": {},
   "source": [
    "EfficientNet V2"
   ]
  },
  {
   "cell_type": "code",
   "execution_count": 20,
   "metadata": {},
   "outputs": [
    {
     "name": "stdout",
     "output_type": "stream",
     "text": [
      "Downloading data from https://storage.googleapis.com/tensorflow/keras-applications/efficientnet_v2/efficientnetv2-b2_notop.h5\n",
      "35839040/35839040 [==============================] - 13s 0us/step\n"
     ]
    }
   ],
   "source": [
    "pre_trained_model = EfficientNetV2B2(weights=\"imagenet\", include_top=False, input_shape=(150, 150, 3))\n",
    "\n",
    "for layer in pre_trained_model.layers:\n",
    "    layer.trainable = False\n",
    "\n",
    "model = Sequential()\n",
    "\n",
    "model.add(pre_trained_model)\n",
    "\n",
    "# Menambahkan Conv2D and Pooling layers\n",
    "model.add(Conv2D(32, (3, 3), activation='relu', padding='same'))\n",
    "model.add(MaxPooling2D((2, 2)))\n",
    "model.add(Conv2D(64, (3, 3), activation='relu', padding='same'))\n",
    "model.add(MaxPooling2D((2, 2)))\n",
    "model.add(Flatten(name=\"flatten\"))\n",
    "model.add(Dropout(0.5))\n",
    "model.add(Dense(128, activation=\"relu\"))\n",
    "model.add(Dense(4, activation='softmax'))"
   ]
  },
  {
   "cell_type": "code",
   "execution_count": 21,
   "metadata": {},
   "outputs": [],
   "source": [
    "#Melakukan compile model\n",
    "model.compile(loss='categorical_crossentropy',\n",
    "              optimizer=tf.optimizers.Adam(),\n",
    "              metrics=['accuracy'])"
   ]
  },
  {
   "cell_type": "code",
   "execution_count": 22,
   "metadata": {},
   "outputs": [],
   "source": [
    "# Compile model\n",
    "optimizer = tf.optimizers.Adam()\n",
    "model.compile(optimizer=optimizer,\n",
    "              loss='categorical_crossentropy',\n",
    "              metrics=['accuracy'])"
   ]
  },
  {
   "cell_type": "code",
   "execution_count": 23,
   "metadata": {},
   "outputs": [],
   "source": [
    "# Callbacks\n",
    "checkpoint = ModelCheckpoint('best_model.keras', monitor='val_loss', save_best_only=True, mode='min')\n",
    "early_stopping = EarlyStopping(monitor='val_accuracy', patience=10, min_delta=0.001, restore_best_weights=True, mode='max', baseline=0.96)"
   ]
  },
  {
   "cell_type": "code",
   "execution_count": 24,
   "metadata": {},
   "outputs": [
    {
     "name": "stdout",
     "output_type": "stream",
     "text": [
      "Epoch 1/15\n",
      "77/77 [==============================] - 76s 831ms/step - loss: 1.2600 - accuracy: 0.4871 - val_loss: 1.2593 - val_accuracy: 0.5176\n",
      "Epoch 2/15\n",
      "77/77 [==============================] - 58s 756ms/step - loss: 1.2312 - accuracy: 0.5162 - val_loss: 1.1971 - val_accuracy: 0.5176\n",
      "Epoch 3/15\n",
      "77/77 [==============================] - ETA: 0s - loss: 1.2181 - accuracy: 0.5191"
     ]
    }
   ],
   "source": [
    "# Melatih model\n",
    "num_epochs = 15\n",
    "\n",
    "H = model.fit(train_generator,\n",
    "              epochs=num_epochs,\n",
    "              validation_data=test_generator,\n",
    "              callbacks=[checkpoint, early_stopping],\n",
    "              verbose=1)"
   ]
  },
  {
   "cell_type": "code",
   "execution_count": null,
   "metadata": {},
   "outputs": [],
   "source": [
    "# MobileNetV2\n",
    "# 57/57 [==============================] - 91s 2s/step - loss: 0.4142 - accuracy: 0.8611 - val_loss: 0.8843 - val_accuracy: 0.7342"
   ]
  },
  {
   "cell_type": "code",
   "execution_count": null,
   "metadata": {},
   "outputs": [],
   "source": [
    "# EfficientNetV2B0\n",
    "# 77/77 [==============================] - 47s 606ms/step - loss: 1.1946 - accuracy: 0.5191 - val_loss: 1.1941 - val_accuracy: 0.5176"
   ]
  },
  {
   "cell_type": "code",
   "execution_count": null,
   "metadata": {},
   "outputs": [
    {
     "data": {
      "image/png": "[encoded data removed]",
      "text/plain": [
       "<Figure size 1200x400 with 2 Axes>"
      ]
     },
     "metadata": {},
     "output_type": "display_data"
    }
   ],
   "source": [
    "def plot_training_history(history):\n",
    "    acc = history.history['accuracy']\n",
    "    val_acc = history.history['val_accuracy']\n",
    "    loss = history.history['loss']\n",
    "    val_loss = history.history['val_loss']\n",
    "\n",
    "    epochs = range(1, len(acc) + 1)\n",
    "\n",
    "    plt.figure(figsize=(12, 4))\n",
    "\n",
    "    plt.subplot(1, 2, 1)\n",
    "    plt.plot(epochs, acc, 'r', label='Training acc')\n",
    "    plt.plot(epochs, val_acc, 'b', label='Validation acc')\n",
    "    plt.title('Training and validation accuracy')\n",
    "    plt.legend()\n",
    "\n",
    "    plt.subplot(1, 2, 2)\n",
    "    plt.plot(epochs, loss, 'r', label='Training loss')\n",
    "    plt.plot(epochs, val_loss, 'b', label='Validation loss')\n",
    "    plt.title('Training and validation loss')\n",
    "    plt.legend()\n",
    "\n",
    "    plt.show()\n",
    "\n",
    "plot_training_history(H)"
   ]
  }
 ],
 "metadata": {
  "kernelspec": {
   "display_name": "proyek-tugasAkhir",
   "language": "python",
   "name": "python3"
  },
  "language_info": {
   "codemirror_mode": {
    "name": "ipython",
    "version": 3
   },
   "file_extension": ".py",
   "mimetype": "text/x-python",
   "name": "python",
   "nbconvert_exporter": "python",
   "pygments_lexer": "ipython3",
   "version": "3.9.15"
  }
 },
 "nbformat": 4,
 "nbformat_minor": 2
}
