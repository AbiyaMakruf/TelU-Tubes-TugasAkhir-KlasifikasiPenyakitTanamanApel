{
 "cells": [
  {
   "cell_type": "code",
   "execution_count": 17,
   "id": "3da8ad5e-8396-4e1e-907b-2c80b84c910e",
   "metadata": {},
   "outputs": [
    {
     "name": "stdout",
     "output_type": "stream",
     "text": [
      "Found 1821 images belonging to 1 classes.\n",
      "Jumlah file yang ditemukan: 1821\n",
      "1821/1821 [==============================] - 43s 22ms/step\n",
      "File submission.csv berhasil dibuat dengan format image_id seperti 'test_0', 'test_1', 'test_2', ...\n"
     ]
    }
   ],
   "source": [
    "import os\n",
    "import pandas as pd\n",
    "from tensorflow.keras.preprocessing.image import ImageDataGenerator\n",
    "from tensorflow.keras.models import load_model\n",
    "\n",
    "# Path ke folder test dan model yang telah dilatih\n",
    "test_dir = \"data/original_dataset_utama/test2/\"\n",
    "model_path = \"efficientnet_b7_finetuned.h5\"  # Ganti dengan path ke model yang telah dilatih\n",
    "\n",
    "# Load model yang telah dilatih\n",
    "model = load_model(model_path)\n",
    "\n",
    "# Menggunakan ImageDataGenerator untuk data test\n",
    "test_datagen = ImageDataGenerator(rescale=1./255)\n",
    "\n",
    "# Pastikan struktur folder test memiliki sub-folder 'images' untuk memuat seluruh gambar\n",
    "# test_generator akan mencari gambar di `test/images/`\n",
    "test_generator = test_datagen.flow_from_directory(\n",
    "    directory=os.path.dirname(test_dir),  # `os.path.dirname(test_dir)` untuk ke direktori `test`\n",
    "    target_size=(224, 224),  # Sesuaikan dengan input shape model\n",
    "    batch_size=1,  # Gunakan batch_size = 1 untuk memprediksi satu gambar pada satu waktu\n",
    "    class_mode=None,  # Tidak ada label untuk data test\n",
    "    shuffle=False,  # Tidak diacak, agar urutan file sesuai dengan urutan prediksi\n",
    ")\n",
    "\n",
    "print(f\"Jumlah file yang ditemukan: {len(test_generator.filenames)}\")\n",
    "\n",
    "# Melakukan prediksi pada data test\n",
    "predictions = model.predict(test_generator, steps=len(test_generator), verbose=1)\n",
    "\n",
    "# Mengambil nama file dari generator\n",
    "file_names = test_generator.filenames\n",
    "\n",
    "# Menghapus prefix `images/` dari nama file (misal `images/image_1.jpg` -> `image_1.jpg`)\n",
    "file_names = [os.path.basename(name) for name in file_names]\n",
    "\n",
    "# Buat `image_id` menjadi format `test_0`, `test_1`, `test_2`, dst.\n",
    "# Gunakan `enumerate` untuk menambahkan nomor urut ke dalam image_id\n",
    "image_ids = [f\"test_{i}\" for i, _ in enumerate(file_names)]\n",
    "\n",
    "# Membuat dataframe dari hasil prediksi\n",
    "# `predictions` adalah probabilitas untuk setiap kelas. Asumsikan urutan kelas [healthy, multiple_disease, rust, scab]\n",
    "submission_df = pd.DataFrame(predictions, columns=['healthy', 'multiple_diseases', 'rust', 'scab'])\n",
    "\n",
    "# Menambahkan kolom `image_id` ke dataframe sesuai urutan\n",
    "submission_df['image_id'] = image_ids\n",
    "\n",
    "# Menyusun ulang kolom agar `image_id` berada di depan\n",
    "submission_df = submission_df[['image_id', 'healthy', 'multiple_diseases', 'rust', 'scab']]\n",
    "\n",
    "# Menyimpan hasil ke file CSV dengan format yang sesuai\n",
    "submission_df.to_csv('submission.csv', index=False)\n",
    "\n",
    "print(\"File submission.csv berhasil dibuat dengan format image_id seperti 'test_0', 'test_1', 'test_2', ...\")"
   ]
  },
  {
   "cell_type": "code",
   "execution_count": 4,
   "id": "f9030cfe-08d3-4a97-8e9b-925f77e36d25",
   "metadata": {},
   "outputs": [
    {
     "name": "stdout",
     "output_type": "stream",
     "text": [
      "Jumlah file di dalam folder 'data/original_dataset_utama/test2/images': 1821\n"
     ]
    }
   ],
   "source": [
    "import os\n",
    "\n",
    "# Path ke folder yang ingin dihitung jumlah filenya\n",
    "folder_path = 'data/original_dataset_utama/test2/images'\n",
    "\n",
    "# Menghitung jumlah file di dalam folder\n",
    "num_files = len([file for file in os.listdir(folder_path) if os.path.isfile(os.path.join(folder_path, file))])\n",
    "\n",
    "print(f\"Jumlah file di dalam folder '{folder_path}': {num_files}\")\n"
   ]
  },
  {
   "cell_type": "code",
   "execution_count": 13,
   "id": "a50c1847-c5bc-4c93-97be-a006ca86b0d3",
   "metadata": {},
   "outputs": [
    {
     "name": "stdout",
     "output_type": "stream",
     "text": [
      "Terdapat sub-folder di dalam data/original_dataset_utama/test2/: ['images']\n"
     ]
    }
   ],
   "source": [
    "import os\n",
    "\n",
    "# Path ke folder test/images\n",
    "folder_path = 'data/original_dataset_utama/test2/'\n",
    "\n",
    "# Mengambil semua item di dalam folder test/images\n",
    "items_in_folder = os.listdir(folder_path)\n",
    "\n",
    "# Mengecek apakah ada sub-folder di dalam test/images\n",
    "sub_folders = [item for item in items_in_folder if os.path.isdir(os.path.join(folder_path, item))]\n",
    "\n",
    "if sub_folders:\n",
    "    print(f\"Terdapat sub-folder di dalam {folder_path}: {sub_folders}\")\n",
    "else:\n",
    "    print(f\"Tidak ada sub-folder di dalam {folder_path}. Semua gambar berada di dalam folder ini.\")\n"
   ]
  },
  {
   "cell_type": "code",
   "execution_count": 10,
   "id": "51d63c4b-ee42-4bca-a9b3-3529a4944a84",
   "metadata": {},
   "outputs": [],
   "source": [
    "rm -r data/original_dataset_utama/test2/.ipynb_checkpoints"
   ]
  }
 ],
 "metadata": {
  "kernelspec": {
   "display_name": "Python 3 (ipykernel)",
   "language": "python",
   "name": "python3"
  },
  "language_info": {
   "codemirror_mode": {
    "name": "ipython",
    "version": 3
   },
   "file_extension": ".py",
   "mimetype": "text/x-python",
   "name": "python",
   "nbconvert_exporter": "python",
   "pygments_lexer": "ipython3",
   "version": "3.11.0rc1"
  }
 },
 "nbformat": 4,
 "nbformat_minor": 5
}
